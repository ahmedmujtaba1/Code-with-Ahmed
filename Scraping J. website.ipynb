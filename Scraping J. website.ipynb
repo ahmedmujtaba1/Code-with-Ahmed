{
 "cells": [
  {
   "cell_type": "code",
   "execution_count": 1,
   "id": "60db4b1e",
   "metadata": {},
   "outputs": [],
   "source": [
    "from selenium import webdriver\n",
    "from webdriver_manager.chrome import ChromeDriverManager\n",
    "from selenium.webdriver.common.by import By\n",
    "from selenium.webdriver.support.ui import WebDriverWait\n",
    "from selenium.webdriver.support import expected_conditions as EC"
   ]
  },
  {
   "cell_type": "code",
   "execution_count": 2,
   "id": "0805993d",
   "metadata": {},
   "outputs": [
    {
     "name": "stderr",
     "output_type": "stream",
     "text": [
      "[WDM] - Downloading: 100%|████████████████████████████████████████████████████████| 6.68M/6.68M [00:05<00:00, 1.21MB/s]\n",
      "C:\\Users\\ABC\\AppData\\Local\\Temp\\ipykernel_19572\\770869621.py:1: DeprecationWarning: executable_path has been deprecated, please pass in a Service object\n",
      "  driver = webdriver.Chrome(ChromeDriverManager().install())\n"
     ]
    }
   ],
   "source": [
    "driver = webdriver.Chrome(ChromeDriverManager().install())\n",
    "\n",
    "driver.get(\"https://www.junaidjamshed.com/mens/kameez-shalwar.html\")"
   ]
  },
  {
   "cell_type": "code",
   "execution_count": 26,
   "id": "38d70499",
   "metadata": {},
   "outputs": [
    {
     "name": "stdout",
     "output_type": "stream",
     "text": [
      "Title : COFFEE BROWN COTTON KAMEEZ SHALWAR | JJKS-S-37644\n",
      "Price : PKR5,790.00\n"
     ]
    }
   ],
   "source": [
    "i = driver.find_elements(By.XPATH, \"//div[@id='layer-product-list']\")\n",
    "\n",
    "for J in i:\n",
    "    title = J.find_element(By.XPATH, \"//h2[@class='product name product-item-name']\").text\n",
    "    print('Title : ' + title)\n",
    "    price = J.find_element(By.XPATH, \"//span[@class='price-container price-final_price tax weee']\").text\n",
    "    print('Price : ' + price)\n",
    "    \n",
    "   "
   ]
  },
  {
   "cell_type": "code",
   "execution_count": null,
   "id": "a959e061",
   "metadata": {},
   "outputs": [],
   "source": []
  }
 ],
 "metadata": {
  "kernelspec": {
   "display_name": "Python 3 (ipykernel)",
   "language": "python",
   "name": "python3"
  },
  "language_info": {
   "codemirror_mode": {
    "name": "ipython",
    "version": 3
   },
   "file_extension": ".py",
   "mimetype": "text/x-python",
   "name": "python",
   "nbconvert_exporter": "python",
   "pygments_lexer": "ipython3",
   "version": "3.9.12"
  }
 },
 "nbformat": 4,
 "nbformat_minor": 5
}
