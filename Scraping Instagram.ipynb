{
 "cells": [
  {
   "cell_type": "code",
   "execution_count": 38,
   "id": "a877c4ed",
   "metadata": {},
   "outputs": [
    {
     "name": "stderr",
     "output_type": "stream",
     "text": [
      "C:\\Users\\ABC\\AppData\\Local\\Temp\\ipykernel_11748\\74743227.py:10: DeprecationWarning: executable_path has been deprecated, please pass in a Service object\n",
      "  driver = webdriver.Chrome(ChromeDriverManager().install())\n"
     ]
    }
   ],
   "source": [
    "from selenium import webdriver\n",
    "from selenium.webdriver.common.keys import Keys\n",
    "from webdriver_manager.chrome import ChromeDriverManager\n",
    "from selenium.webdriver.support import expected_conditions as EC\n",
    "from selenium.webdriver.common.by import By\n",
    "from selenium.webdriver.support.wait import WebDriverWait\n",
    "import time\n",
    "\n",
    "\n",
    "driver = webdriver.Chrome(ChromeDriverManager().install())\n",
    "\n",
    "#open the webpage\n",
    "driver.get(\"http://www.instagram.com\")\n",
    "\n",
    "def Creating_Account():\n",
    "    driver.find_element(By.XPATH, \"//a[@data-testid='sign-up-link']\").click()\n",
    "    \n",
    "    time.sleep(2)\n",
    "    try:\n",
    "        driver.find_element(By.XPATH, \"//input[@aria-label='Mobile Number or Email']\").send_keys(\"pz5962612@gmail.com\")\n",
    "        time.sleep(1)\n",
    "    except:\n",
    "        print(\"Your Email is wrong !\")\n",
    "    driver.find_element(By.XPATH, \"//input[@aria-label='Full Name']\").send_keys(\"Pakistan\")\n",
    "    time.sleep(1)\n",
    "    try:\n",
    "        driver.find_element(By.XPATH, \"//input[@aria-label='Username']\").send_keys(\"pz5962612\")\n",
    "     \n",
    "    \n",
    "        driver.find_element(By.XPATH, \"//input[@aria-label='Password']\").send_keys(\"Happy Pakistan\")\n",
    "\n",
    "        time.sleep(1)\n",
    "\n",
    "        driver.find_element(By.XPATH, \"//button[@type='submit']\").click()\n",
    "\n",
    "        time.sleep(1)\n",
    "\n",
    "        driver.find_element(By.XPATH, \"//select[@title='Month:']\").send_keys(\"Augest\")\n",
    "    except:\n",
    "        print(\"You Have Enter Wrong\")\n",
    "    \n",
    "    time.sleep(5)\n",
    "    \n",
    "    driver.find_element(By.XPATH, \"//select[@title='Day:']\").send_keys(\"14\")\n",
    "    time.sleep(1)\n",
    "    driver.find_element(By.XPATH, \"//select[@title='Year:']\").send_keys(\"1947\")\n",
    "    \n",
    "    driver.find_element(By.XPATH, \"//button[@type='button']\").click()\n",
    "    time.sleep(1)\n",
    "    \n",
    "    driver.find_element(By.XPATH, \"//*[@aria-label='Close']\").click()\n",
    "    time.sleep(1)\n",
    "    \n",
    "    driver.find_element(By.XPATH, \"//button[@class='sqdOP  L3NKy _4pI4F  y3zKF     ']\").click()\n",
    "    \n",
    "    # Open a new window\n",
    "    driver.execute_script(\"window.open('https://accounts.google.com/v3/signin/identifier?dsh=S-905005946%3A1664808111575292&authuser=0&biz=false&cc=PK&continue=https%3A%2F%2Fmail.google.com&flowEntry=AddSession&flowName=GlifWebSignIn&hl=en&service=mail');\")\n",
    "    # Switch to the new window\n",
    "    driver.switch_to.window(driver.window_handles[1])\n",
    "    driver.get(\"https://accounts.google.com/v3/signin/identifier?dsh=S-905005946%3A1664808111575292&authuser=0&biz=false&cc=PK&continue=https%3A%2F%2Fmail.google.com&flowEntry=AddSession&flowName=GlifWebSignIn&hl=en&service=mail\")\n",
    "    time.sleep(3)\n",
    "    \n",
    "    driver.find_element(By.XPATH, \"//input[@type='email']\").send_keys(\"pz5962612@gmail.com\")\n",
    "    time.sleep(1)\n",
    "    \n",
    "    driver.find_element(By.XPATH, \"//*[@class='VfPpkd-LgbsSe VfPpkd-LgbsSe-OWXEXe-k8QpJ VfPpkd-LgbsSe-OWXEXe-dgl2Hf nCP5yc AjY5Oe DuMIQc LQeN7 qIypjc TrZEUc lw1w4b']\").click()\n",
    "    time.sleep(2)\n",
    "    driver.find_element(By.XPATH, \"//input[@type='password']\").send_keys(\"pakistan_award12\")\n",
    "    \n",
    "    driver.find_element(By.XPATH, \"//*[@class='VfPpkd-LgbsSe VfPpkd-LgbsSe-OWXEXe-k8QpJ VfPpkd-LgbsSe-OWXEXe-dgl2Hf nCP5yc AjY5Oe DuMIQc LQeN7 qIypjc TrZEUc lw1w4b']\").click()\n",
    "    time.sleep(4)\n",
    "    \n",
    "    driver.find_element(By.XPATH, \"//tr[@class='zA zE']\").click()\n",
    "    \n",
    "    code = driver.find_element(By.XPATH, \"//td[@style='padding:10px;color:#565a5c;font-size:32px;font-weight:500;text-align:center;padding-bottom:25px']\").text\n",
    "    print(code)\n",
    "    time.sleep(3)\n",
    "    driver.switch_to.window(driver.window_handles[0])\n",
    "    \n",
    "    driver.find_element(By.XPATH, \"//input[@aria-label='Confirmation Code']\").send_keys(code)\n",
    "    \n",
    "    driver.find_element(By.XPATH, \"//*[@class='sqdOP  L3NKy _4pI4F  y3zKF     ']\").click()"
   ]
  },
  {
   "cell_type": "code",
   "execution_count": 39,
   "id": "7d9dcc17",
   "metadata": {},
   "outputs": [
    {
     "name": "stdout",
     "output_type": "stream",
     "text": [
      "438957\n"
     ]
    }
   ],
   "source": [
    "Creating_Account()  "
   ]
  },
  {
   "cell_type": "code",
   "execution_count": 6,
   "id": "7d46811a",
   "metadata": {},
   "outputs": [],
   "source": [
    "import time\n",
    "\n",
    "#target the search input field\n",
    "searchbox = WebDriverWait(driver, 10).until(EC.element_to_be_clickable((By.XPATH, \"//input[@placeholder='Search']\")))\n",
    "searchbox.clear()\n",
    "\n",
    "#search for the hashtag cat\n",
    "keyword = \"#cat\"\n",
    "searchbox.send_keys(keyword)\n",
    " \n",
    "# Wait for 5 seconds\n",
    "time.sleep(5)\n",
    "searchbox.send_keys(Keys.ENTER)\n",
    "time.sleep(5)\n",
    "searchbox.send_keys(Keys.ENTER)\n",
    "time.sleep(5)"
   ]
  },
  {
   "cell_type": "code",
   "execution_count": 7,
   "id": "b6d101db",
   "metadata": {},
   "outputs": [],
   "source": [
    "#scroll down 2 times\n",
    "#increase the range to sroll more\n",
    "n_scrolls = 2\n",
    "for j in range(0, n_scrolls):\n",
    "    driver.execute_script(\"window.scrollTo(0, document.body.scrollHeight);\")\n",
    "    time.sleep(5)"
   ]
  },
  {
   "cell_type": "code",
   "execution_count": 8,
   "id": "2aba6118",
   "metadata": {},
   "outputs": [
    {
     "name": "stdout",
     "output_type": "stream",
     "text": [
      "Number of scraped images:  10\n"
     ]
    }
   ],
   "source": [
    "#scroll down to scrape more images\n",
    "driver.execute_script(\"window.scrollTo(0, 4000);\")\n",
    "\n",
    "#target all images on the page\n",
    "images = driver.find_elements(By.XPATH, \"//a[@class='qi72231t nu7423ey n3hqoq4p r86q59rh b3qcqh3k fq87ekyn bdao358l fsf7x5fv rse6dlih s5oniofx m8h3af8h l7ghb35v kjdc1dyq kmwttqpk srn514ro oxkhqvkx rl78xhln nch0832m cr00lzj9 rn8ck1ys s3jn8y49 icdlwmnq _a6hd']\")\n",
    "images = [image.get_attribute('href') for image in images]\n",
    "images = images[:-2]\n",
    "\n",
    "print('Number of scraped images: ', len(images))"
   ]
  },
  {
   "cell_type": "code",
   "execution_count": 9,
   "id": "673f9db9",
   "metadata": {},
   "outputs": [
    {
     "name": "stdout",
     "output_type": "stream",
     "text": [
      "Found 9 links to images\n"
     ]
    },
    {
     "data": {
      "text/plain": [
       "['https://www.instagram.com/p/Ci34QqnpTzT/',\n",
       " 'https://www.instagram.com/p/Ci3Wddmpk67/',\n",
       " 'https://www.instagram.com/p/Ci27LkBqJvM/',\n",
       " 'https://www.instagram.com/p/Ci3_QB9uglz/',\n",
       " 'https://www.instagram.com/p/Ci2_DkrK8vY/']"
      ]
     },
     "execution_count": 9,
     "metadata": {},
     "output_type": "execute_result"
    }
   ],
   "source": [
    "#target all the link elements on the page\n",
    "anchors = driver.find_elements(By.XPATH, \"//a[@class='qi72231t nu7423ey n3hqoq4p r86q59rh b3qcqh3k fq87ekyn bdao358l fsf7x5fv rse6dlih s5oniofx m8h3af8h l7ghb35v kjdc1dyq kmwttqpk srn514ro oxkhqvkx rl78xhln nch0832m cr00lzj9 rn8ck1ys s3jn8y49 icdlwmnq _a6hd']\")\n",
    "anchors = [a.get_attribute('href') for a in anchors]\n",
    "#narrow down all links to image links only\n",
    "anchors = [a for a in anchors if str(a).startswith(\"https://www.instagram.com/p/\")]\n",
    "\n",
    "print('Found ' + str(len(anchors)) + ' links to images')\n",
    "anchors[:5]"
   ]
  },
  {
   "cell_type": "code",
   "execution_count": 10,
   "id": "793b6c4b",
   "metadata": {},
   "outputs": [
    {
     "data": {
      "text/plain": [
       "['https://instagram.fkhi22-1.fna.fbcdn.net/v/t51.2885-15/308105612_1254454128725833_55679218056101824_n.jpg?stp=c0.280.720.720a_dst-jpg_e15_s640x640&_nc_ht=instagram.fkhi22-1.fna.fbcdn.net&_nc_cat=101&_nc_ohc=_683giL3MjYAX_s-mGS&edm=APU89FABAAAA&ccb=7-5&oh=00_AT_UBDWgFOu79U6FpjLsBERkRHCS0ZXK5spFGavdBgKWVA&oe=6331512C&_nc_sid=86f79a',\n",
       " 'https://instagram.fkhi22-1.fna.fbcdn.net/v/t51.2885-15/307827330_497726221822369_7191555614484792594_n.jpg?stp=c0.85.893.893a_dst-jpg_e35_s640x640_sh0.08&_nc_ht=instagram.fkhi22-1.fna.fbcdn.net&_nc_cat=101&_nc_ohc=ugW6xAVk_RYAX_-xcAc&edm=APU89FABAAAA&ccb=7-5&oh=00_AT9haWbdFQuxGo4z__eJyyZ6Jb_iIMz_LAqnOQh9p0lOLQ&oe=63360378&_nc_sid=86f79a',\n",
       " 'https://instagram.fkhi22-1.fna.fbcdn.net/v/t51.2885-15/306197056_192941036517239_2786781976403038038_n.jpg?stp=c0.280.720.720a_dst-jpg_e15_s640x640&_nc_ht=instagram.fkhi22-1.fna.fbcdn.net&_nc_cat=111&_nc_ohc=Or3-3dRAks4AX-4pEaf&edm=APU89FABAAAA&ccb=7-5&oh=00_AT91RARcTBWDLpTxXLlRDeZZshP-NfJOLiU5wv9ZEANnkA&oe=6331DE68&_nc_sid=86f79a',\n",
       " 'https://instagram.fkhi22-1.fna.fbcdn.net/v/t51.2885-15/307614604_163343223021633_5964597181225279066_n.jpg?stp=c0.112.1010.1010a_dst-jpg_e35_s640x640_sh0.08&_nc_ht=instagram.fkhi22-1.fna.fbcdn.net&_nc_cat=1&_nc_ohc=nkNIZHrVtJoAX--4fJ9&edm=APU89FABAAAA&ccb=7-5&oh=00_AT8TdnJ4_s3dLoP-EfF87Ochmo38PSTpXI4Wt2GJG_-dSg&oe=6336F135&_nc_sid=86f79a',\n",
       " 'https://instagram.fkhi22-1.fna.fbcdn.net/v/t51.2885-15/307552668_1175559536644108_2895295254703678080_n.jpg?stp=c0.280.720.720a_dst-jpg_e15_s640x640&_nc_ht=instagram.fkhi22-1.fna.fbcdn.net&_nc_cat=104&_nc_ohc=42XlkSl9GcsAX99-OOF&edm=APU89FABAAAA&ccb=7-5&oh=00_AT-nFxGX1g-_KKUnkWNdHKlWQCwokGjm51OWyJn3O-VSkg&oe=6331A5C3&_nc_sid=86f79a']"
      ]
     },
     "execution_count": 10,
     "metadata": {},
     "output_type": "execute_result"
    }
   ],
   "source": [
    "images = []\n",
    "\n",
    "#follow each image link and extract only image at index=1\n",
    "for a in anchors:\n",
    "    driver.get(a)\n",
    "    time.sleep(5)\n",
    "    img = driver.find_elements(By.XPATH, \"//div[@class='_aagv']//img[@class='pytsy3co buh8m867 s8sjc6am ekq1a7f9 f14ij5to mfclru0v']\")\n",
    "    img = [i.get_attribute('src') for i in img]\n",
    "    images.append(img[1])\n",
    "    \n",
    "images[:5]    "
   ]
  },
  {
   "cell_type": "code",
   "execution_count": 12,
   "id": "dd4ed3af",
   "metadata": {},
   "outputs": [
    {
     "data": {
      "text/plain": [
       "'C:\\\\Users\\\\ABC\\\\cats'"
      ]
     },
     "execution_count": 12,
     "metadata": {},
     "output_type": "execute_result"
    }
   ],
   "source": [
    "import os\n",
    "import wget\n",
    "\n",
    "path = os.getcwd()\n",
    "path = os.path.join(path, keyword[1:] + \"s\")\n",
    "\n",
    "#create the directory\n",
    "os.mkdir(path)\n",
    "\n",
    "path"
   ]
  },
  {
   "cell_type": "code",
   "execution_count": 13,
   "id": "cdd368e2",
   "metadata": {},
   "outputs": [
    {
     "name": "stdout",
     "output_type": "stream",
     "text": [
      "100% [............................................................................] 111045 / 111045"
     ]
    }
   ],
   "source": [
    "#download images\n",
    "counter = 0\n",
    "for image in images:\n",
    "    save_as = os.path.join(path, keyword[1:] + str(counter) + '.jpg')\n",
    "    wget.download(image, save_as)\n",
    "    counter += 1"
   ]
  },
  {
   "cell_type": "code",
   "execution_count": null,
   "id": "3f491c34",
   "metadata": {},
   "outputs": [],
   "source": []
  }
 ],
 "metadata": {
  "kernelspec": {
   "display_name": "Python 3 (ipykernel)",
   "language": "python",
   "name": "python3"
  },
  "language_info": {
   "codemirror_mode": {
    "name": "ipython",
    "version": 3
   },
   "file_extension": ".py",
   "mimetype": "text/x-python",
   "name": "python",
   "nbconvert_exporter": "python",
   "pygments_lexer": "ipython3",
   "version": "3.9.12"
  }
 },
 "nbformat": 4,
 "nbformat_minor": 5
}
