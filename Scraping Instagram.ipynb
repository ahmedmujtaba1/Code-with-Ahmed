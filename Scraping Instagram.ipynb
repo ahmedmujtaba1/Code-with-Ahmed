{
 "cells": [
  {
   "cell_type": "code",
   "execution_count": 5,
   "id": "fe08bd01",
   "metadata": {},
   "outputs": [],
   "source": [
    "from selenium import webdriver\n",
    "from selenium.webdriver.common.keys import Keys\n",
    "from webdriver_manager.chrome import ChromeDriverManager\n",
    "from selenium.webdriver.support import expected_conditions as EC\n",
    "from selenium.webdriver.common.by import By\n",
    "from selenium.webdriver.support.wait import WebDriverWait"
   ]
  },
  {
   "cell_type": "code",
   "execution_count": 70,
   "id": "a877c4ed",
   "metadata": {},
   "outputs": [
    {
     "name": "stderr",
     "output_type": "stream",
     "text": [
      "C:\\Users\\ABC\\AppData\\Local\\Temp\\ipykernel_12772\\4109341533.py:1: DeprecationWarning: executable_path has been deprecated, please pass in a Service object\n",
      "  driver = webdriver.Chrome(ChromeDriverManager().install())\n"
     ]
    }
   ],
   "source": [
    "driver = webdriver.Chrome(ChromeDriverManager().install())\n",
    "\n",
    "#open the webpage\n",
    "driver.get(\"http://www.instagram.com\")\n"
   ]
  },
  {
   "cell_type": "code",
   "execution_count": 71,
   "id": "7d9dcc17",
   "metadata": {},
   "outputs": [],
   "source": [
    "driver.find_element(By.XPATH, \"//a[@data-testid='sign-up-link']\").click()"
   ]
  },
  {
   "cell_type": "code",
   "execution_count": 72,
   "id": "299935f3",
   "metadata": {},
   "outputs": [],
   "source": [
    "driver.find_element(By.XPATH, \"//input[@aria-label='Mobile Number or Email']\").send_keys(\"pakistanzindabad2269@gmail.com\")\n",
    "driver.find_element(By.XPATH, \"//input[@aria-label='Full Name']\").send_keys(\"Pakistan\")\n",
    "driver.find_element(By.XPATH, \"//input[@aria-label='Username']\").send_keys(\"pakistanzindabad2269\")\n",
    "driver.find_element(By.XPATH, \"//input[@aria-label='Password']\").send_keys(\"Happy Pakistan\")"
   ]
  },
  {
   "cell_type": "code",
   "execution_count": 73,
   "id": "6a697e7d",
   "metadata": {},
   "outputs": [],
   "source": [
    "driver.find_element(By.XPATH, \"//button[@type='submit']\").click()"
   ]
  },
  {
   "cell_type": "code",
   "execution_count": 78,
   "id": "0e33ce85",
   "metadata": {},
   "outputs": [],
   "source": [
    "driver.find_element(By.XPATH, \"//select[@title='Month:']\").send_keys(\"Augest\")\n",
    "driver.find_element(By.XPATH, \"//select[@title='Day:']\").send_keys(\"14\")\n",
    "driver.find_element(By.XPATH, \"//select[@title='Year:']\").send_keys(\"1947\")"
   ]
  },
  {
   "cell_type": "code",
   "execution_count": 79,
   "id": "d8722c1d",
   "metadata": {},
   "outputs": [],
   "source": [
    "driver.find_element(By.XPATH, \"//button[@type='button']\").click()"
   ]
  },
  {
   "cell_type": "code",
   "execution_count": 80,
   "id": "d21b2c81",
   "metadata": {},
   "outputs": [],
   "source": [
    "driver.find_element(By.XPATH, \"//*[@aria-label='Close']\").click()"
   ]
  },
  {
   "cell_type": "code",
   "execution_count": 66,
   "id": "1e750574",
   "metadata": {},
   "outputs": [],
   "source": [
    "driver.close()"
   ]
  },
  {
   "cell_type": "code",
   "execution_count": 44,
   "id": "23e69428",
   "metadata": {},
   "outputs": [
    {
     "name": "stderr",
     "output_type": "stream",
     "text": [
      "C:\\Users\\ABC\\AppData\\Local\\Temp\\ipykernel_12772\\1703131548.py:1: DeprecationWarning: executable_path has been deprecated, please pass in a Service object\n",
      "  web = webdriver.Chrome(ChromeDriverManager().install())\n"
     ]
    }
   ],
   "source": [
    "web = webdriver.Chrome(ChromeDriverManager().install())\n",
    "\n",
    "web.get(\"https://accounts.google.com/ServiceLogin/identifier?service=mail&passive=1209600&osid=1&continue=https%3A%2F%2Fmail.google.com%2Fmail%2Fu%2F0%2F%3Ftab%3Drm%26ogbl&followup=https%3A%2F%2Fmail.google.com%2Fmail%2Fu%2F0%2F%3Ftab%3Drm%26ogbl&emr=1&flowName=GlifWebSignIn&flowEntry=ServiceLogin\");"
   ]
  },
  {
   "cell_type": "code",
   "execution_count": 45,
   "id": "25afd89b",
   "metadata": {},
   "outputs": [],
   "source": [
    "web.find_element(By.XPATH, \"//input[@type='email']\").send_keys(\"pakistanzindabad2269@gmail.com\")"
   ]
  },
  {
   "cell_type": "code",
   "execution_count": 46,
   "id": "b969fb59",
   "metadata": {},
   "outputs": [],
   "source": [
    "web.find_element(By.XPATH, \"//*[@class='VfPpkd-LgbsSe VfPpkd-LgbsSe-OWXEXe-k8QpJ VfPpkd-LgbsSe-OWXEXe-dgl2Hf nCP5yc AjY5Oe DuMIQc LQeN7 qIypjc TrZEUc lw1w4b']\").click()"
   ]
  },
  {
   "cell_type": "code",
   "execution_count": 47,
   "id": "de34b654",
   "metadata": {},
   "outputs": [],
   "source": [
    "web.find_element(By.XPATH, \"//input[@type='password']\").send_keys(\"pakistanzindabad\")"
   ]
  },
  {
   "cell_type": "code",
   "execution_count": 48,
   "id": "ce1be34e",
   "metadata": {},
   "outputs": [],
   "source": [
    "web.find_element(By.XPATH, \"//*[@class='VfPpkd-LgbsSe VfPpkd-LgbsSe-OWXEXe-k8QpJ VfPpkd-LgbsSe-OWXEXe-dgl2Hf nCP5yc AjY5Oe DuMIQc LQeN7 qIypjc TrZEUc lw1w4b']\").click()"
   ]
  },
  {
   "cell_type": "code",
   "execution_count": 51,
   "id": "b68a47d0",
   "metadata": {},
   "outputs": [],
   "source": [
    "web.find_element(By.XPATH, \"//tr[@class='zA zE']\").click()"
   ]
  },
  {
   "cell_type": "code",
   "execution_count": 60,
   "id": "e9e81820",
   "metadata": {},
   "outputs": [
    {
     "name": "stdout",
     "output_type": "stream",
     "text": [
      "712058\n"
     ]
    }
   ],
   "source": [
    "code = web.find_element(By.XPATH, \"//td[@style='padding:10px;color:#565a5c;font-size:32px;font-weight:500;text-align:center;padding-bottom:25px']\").text\n",
    "print(code)"
   ]
  },
  {
   "cell_type": "code",
   "execution_count": 61,
   "id": "bb063427",
   "metadata": {},
   "outputs": [],
   "source": [
    "web.close()"
   ]
  },
  {
   "cell_type": "code",
   "execution_count": 88,
   "id": "ba01c464",
   "metadata": {},
   "outputs": [],
   "source": [
    "driver.find_element(By.XPATH, \"//input[@aria-label='Confirmation Code']\").send_keys(code)"
   ]
  },
  {
   "cell_type": "code",
   "execution_count": 89,
   "id": "c4fe243d",
   "metadata": {},
   "outputs": [],
   "source": [
    "driver.find_element(By.XPATH, \"//*[@class='sqdOP  L3NKy _4pI4F  y3zKF     ']\").click()"
   ]
  },
  {
   "cell_type": "code",
   "execution_count": 94,
   "id": "87ad1858",
   "metadata": {},
   "outputs": [],
   "source": [
    "driver.find_element(By.XPATH, \"//div[@class='_ab8w  _ab94 _ab99 _ab9f _ab9m _ab9p  _ab9- _abaa _abcm']\").click()"
   ]
  },
  {
   "cell_type": "code",
   "execution_count": 95,
   "id": "7d46811a",
   "metadata": {},
   "outputs": [],
   "source": [
    "import time\n",
    "\n",
    "#target the search input field\n",
    "searchbox = WebDriverWait(driver, 10).until(EC.element_to_be_clickable((By.XPATH, \"//input[@placeholder='Search']\")))\n",
    "searchbox.clear()\n",
    "\n",
    "#search for the hashtag cat\n",
    "keyword = \"#cat\"\n",
    "searchbox.send_keys(keyword)\n",
    " \n",
    "# Wait for 5 seconds\n",
    "time.sleep(5)\n",
    "searchbox.send_keys(Keys.ENTER)\n",
    "time.sleep(5)\n",
    "searchbox.send_keys(Keys.ENTER)\n",
    "time.sleep(5)"
   ]
  },
  {
   "cell_type": "code",
   "execution_count": 118,
   "id": "b6d101db",
   "metadata": {},
   "outputs": [],
   "source": [
    "#scroll down 2 times\n",
    "#increase the range to sroll more\n",
    "n_scrolls = 2\n",
    "for j in range(0, n_scrolls):\n",
    "    driver.execute_script(\"window.scrollTo(0, document.body.scrollHeight);\")\n",
    "    time.sleep(5)"
   ]
  },
  {
   "cell_type": "code",
   "execution_count": 121,
   "id": "2aba6118",
   "metadata": {},
   "outputs": [
    {
     "name": "stdout",
     "output_type": "stream",
     "text": [
      "Number of scraped images:  10\n"
     ]
    }
   ],
   "source": [
    "#scroll down to scrape more images\n",
    "driver.execute_script(\"window.scrollTo(0, 4000);\")\n",
    "\n",
    "#target all images on the page\n",
    "images = driver.find_elements(By.XPATH, \"//a[@class='qi72231t nu7423ey n3hqoq4p r86q59rh b3qcqh3k fq87ekyn bdao358l fsf7x5fv rse6dlih s5oniofx m8h3af8h l7ghb35v kjdc1dyq kmwttqpk srn514ro oxkhqvkx rl78xhln nch0832m cr00lzj9 rn8ck1ys s3jn8y49 icdlwmnq _a6hd']\")\n",
    "images = [image.get_attribute('href') for image in images]\n",
    "images = images[:-2]\n",
    "\n",
    "print('Number of scraped images: ', len(images))"
   ]
  },
  {
   "cell_type": "code",
   "execution_count": 122,
   "id": "673f9db9",
   "metadata": {},
   "outputs": [
    {
     "name": "stdout",
     "output_type": "stream",
     "text": [
      "Found 9 links to images\n"
     ]
    },
    {
     "data": {
      "text/plain": [
       "['https://www.instagram.com/p/Ci3renIJfHj/',\n",
       " 'https://www.instagram.com/p/Ci2-_KpA6RT/',\n",
       " 'https://www.instagram.com/p/Ci3noqCKXaR/',\n",
       " 'https://www.instagram.com/p/Ci2UzbCJClQ/',\n",
       " 'https://www.instagram.com/p/Ci2tHQZqn0Y/']"
      ]
     },
     "execution_count": 122,
     "metadata": {},
     "output_type": "execute_result"
    }
   ],
   "source": [
    "#target all the link elements on the page\n",
    "anchors = driver.find_elements(By.XPATH, \"//a[@class='qi72231t nu7423ey n3hqoq4p r86q59rh b3qcqh3k fq87ekyn bdao358l fsf7x5fv rse6dlih s5oniofx m8h3af8h l7ghb35v kjdc1dyq kmwttqpk srn514ro oxkhqvkx rl78xhln nch0832m cr00lzj9 rn8ck1ys s3jn8y49 icdlwmnq _a6hd']\")\n",
    "anchors = [a.get_attribute('href') for a in anchors]\n",
    "#narrow down all links to image links only\n",
    "anchors = [a for a in anchors if str(a).startswith(\"https://www.instagram.com/p/\")]\n",
    "\n",
    "print('Found ' + str(len(anchors)) + ' links to images')\n",
    "anchors[:5]"
   ]
  },
  {
   "cell_type": "code",
   "execution_count": 133,
   "id": "793b6c4b",
   "metadata": {},
   "outputs": [
    {
     "data": {
      "text/plain": [
       "['https://instagram.fkhi22-1.fna.fbcdn.net/v/t51.2885-15/308080827_428127109410191_8691084896781530884_n.jpg?stp=dst-jpg_e35&_nc_ht=instagram.fkhi22-1.fna.fbcdn.net&_nc_cat=111&_nc_ohc=7CTrfGEoRBMAX_NL6aE&tn=ELBx7kn_I0Yxtk7K&edm=ALQROFkBAAAA&ccb=7-5&ig_cache_key=MjkzNDAwNDg5NjkyNzkzNzIzMg%3D%3D.2-ccb7-5&oh=00_AT9Iz-5acuCVHndT5kkXzEolJSl18vlZebZ249wN0jjN-g&oe=6335A8A4&_nc_sid=30a2ef',\n",
       " 'https://instagram.fkhi22-1.fna.fbcdn.net/v/t51.2885-15/308303847_1061849441161730_1456263739870110395_n.jpg?stp=dst-jpg_e15_fr_p1080x1080&_nc_ht=instagram.fkhi22-1.fna.fbcdn.net&_nc_cat=102&_nc_ohc=M1PNd4B5Ek0AX_rm0gi&edm=APU89FABAAAA&ccb=7-5&oh=00_AT_ADdcQRgvooSGNt-nZ3LvYFpJjU-gn46hz2iiH_sptLA&oe=633528E1&_nc_sid=86f79a',\n",
       " 'https://instagram.fkhi22-1.fna.fbcdn.net/v/t51.2885-15/308132834_431368202312973_7411314666266406488_n.webp?stp=dst-jpg_e35&_nc_ht=instagram.fkhi22-1.fna.fbcdn.net&_nc_cat=109&_nc_ohc=0RFawf_Rh0sAX9yoS-n&tn=ELBx7kn_I0Yxtk7K&edm=ALQROFkBAAAA&ccb=7-5&ig_cache_key=MjkzMzk4Nzk4OTQ3OTE3NjgyMw%3D%3D.2-ccb7-5&oh=00_AT-MtIKk5VvnZwr4kgYHiz-45JFGdX0jkiVhzlVj8jUwgA&oe=633570A6&_nc_sid=30a2ef',\n",
       " 'https://instagram.fkhi22-1.fna.fbcdn.net/v/t51.2885-15/307770559_617024016721278_7300418479514620615_n.webp?stp=dst-jpg_e35_s640x640_sh0.08&_nc_ht=instagram.fkhi22-1.fna.fbcdn.net&_nc_cat=106&_nc_ohc=Z562O6EjHkQAX9uKaTc&tn=ELBx7kn_I0Yxtk7K&edm=APU89FABAAAA&ccb=7-5&oh=00_AT_FfVc74_Fd3bMckq6VsLLkz_fFgeVXES9z4J6ovVobIg&oe=63369DFD&_nc_sid=86f79a',\n",
       " 'https://instagram.fkhi22-1.fna.fbcdn.net/v/t51.2885-15/306663646_766416971333861_1410278706906325386_n.jpg?stp=c0.210.540.540a_dst-jpg_e15&_nc_ht=instagram.fkhi22-1.fna.fbcdn.net&_nc_cat=105&_nc_ohc=8BdUAK6I5hoAX_VvhF3&edm=APU89FABAAAA&ccb=7-5&oh=00_AT-vckJLOBIeIiW4xWQhGJ4SzZOgwGmvlPzdB_9afU-3KQ&oe=63313D24&_nc_sid=86f79a']"
      ]
     },
     "execution_count": 133,
     "metadata": {},
     "output_type": "execute_result"
    }
   ],
   "source": [
    "images = []\n",
    "\n",
    "#follow each image link and extract only image at index=1\n",
    "for a in anchors:\n",
    "    driver.get(a)\n",
    "    time.sleep(5)\n",
    "    img = driver.find_elements(By.XPATH, \"//div[@class='_aagv']//img[@class='pytsy3co buh8m867 s8sjc6am ekq1a7f9 f14ij5to mfclru0v']\")\n",
    "    img = [i.get_attribute('src') for i in img]\n",
    "    images.append(img[1])\n",
    "    \n",
    "images[:5]    "
   ]
  },
  {
   "cell_type": "code",
   "execution_count": 135,
   "id": "dd4ed3af",
   "metadata": {},
   "outputs": [
    {
     "data": {
      "text/plain": [
       "'C:\\\\Users\\\\ABC\\\\cats'"
      ]
     },
     "execution_count": 135,
     "metadata": {},
     "output_type": "execute_result"
    }
   ],
   "source": [
    "import os\n",
    "import wget\n",
    "\n",
    "path = os.getcwd()\n",
    "path = os.path.join(path, keyword[1:] + \"s\")\n",
    "\n",
    "#create the directory\n",
    "os.mkdir(path)\n",
    "\n",
    "path"
   ]
  },
  {
   "cell_type": "code",
   "execution_count": 136,
   "id": "cdd368e2",
   "metadata": {},
   "outputs": [
    {
     "name": "stdout",
     "output_type": "stream",
     "text": [
      "100% [............................................................................] 191388 / 191388"
     ]
    }
   ],
   "source": [
    "#download images\n",
    "counter = 0\n",
    "for image in images:\n",
    "    save_as = os.path.join(path, keyword[1:] + str(counter) + '.jpg')\n",
    "    wget.download(image, save_as)\n",
    "    counter += 1"
   ]
  },
  {
   "cell_type": "code",
   "execution_count": null,
   "id": "e410c818",
   "metadata": {},
   "outputs": [],
   "source": []
  }
 ],
 "metadata": {
  "kernelspec": {
   "display_name": "Python 3 (ipykernel)",
   "language": "python",
   "name": "python3"
  },
  "language_info": {
   "codemirror_mode": {
    "name": "ipython",
    "version": 3
   },
   "file_extension": ".py",
   "mimetype": "text/x-python",
   "name": "python",
   "nbconvert_exporter": "python",
   "pygments_lexer": "ipython3",
   "version": "3.9.12"
  }
 },
 "nbformat": 4,
 "nbformat_minor": 5
}
