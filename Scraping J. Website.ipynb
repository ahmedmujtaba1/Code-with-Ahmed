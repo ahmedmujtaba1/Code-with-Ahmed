{
 "cells": [
  {
   "cell_type": "code",
   "execution_count": 1,
   "metadata": {},
   "outputs": [],
   "source": [
    "from selenium import webdriver\n",
    "from webdriver_manager.chrome import ChromeDriverManager\n",
    "from selenium.webdriver.common.by import By\n",
    "import time\n",
    "from selenium.webdriver.support.ui import WebDriverWait\n",
    "from selenium.webdriver.support import expected_conditions as EC"
   ]
  },
  {
   "cell_type": "code",
   "execution_count": 2,
   "metadata": {},
   "outputs": [
    {
     "name": "stderr",
     "output_type": "stream",
     "text": [
      "[WDM] - Downloading:  97%|██████████████████████████████████████████████████████▌ | 6.51M/6.68M [00:02<00:00, 3.40MB/s]<ipython-input-2-091e5c912742>:1: DeprecationWarning: executable_path has been deprecated, please pass in a Service object\n",
      "  driver = webdriver.Chrome(ChromeDriverManager().install())\n"
     ]
    }
   ],
   "source": [
    "driver = webdriver.Chrome(ChromeDriverManager().install())\n",
    "\n",
    "\n",
    "driver.get(\"https://www.junaidjamshed.com/cast-crew/men/kameez-shalwar.html\")"
   ]
  },
  {
   "cell_type": "code",
   "execution_count": 49,
   "metadata": {},
   "outputs": [
    {
     "name": "stdout",
     "output_type": "stream",
     "text": [
      "Getting Url : https://www.junaidjamshed.com/media/catalog/product/j/o/jordan_optical_white_jj-6385-b1_7_.jpg?quality=80&bg-color=255,255,255&fit=bounds&height=755&width=589&canvas=589:755\n",
      "Title : JORDAN - WHITE COTTON KAMEEZ SHALWAR\n",
      "Price : PKR8,990.00\n",
      "------------------------------------------------------------------------------------\n",
      "Getting Url : https://www.junaidjamshed.com/media/catalog/product/a/u/austin_sand_gold_cc-0025-b_2_.jpg?quality=80&bg-color=255,255,255&fit=bounds&height=755&width=589&canvas=589:755\n",
      "Title : AUSTIN - KHAKI KAMEEZ SHALWAR\n",
      "Price : PKR8,990.00\n",
      "------------------------------------------------------------------------------------\n",
      "Getting Url : https://www.junaidjamshed.com/media/catalog/product/a/u/austin_sky_cc-0025-a_3_.jpg?quality=80&bg-color=255,255,255&fit=bounds&height=755&width=589&canvas=589:755\n",
      "Title : AUSTIN - SKY BLUE KAMEEZ SHALWAR\n",
      "Price : PKR8,990.00\n",
      "------------------------------------------------------------------------------------\n",
      "Getting Url : https://www.junaidjamshed.com/media/catalog/product/s/w/sweden_black_cc-0008-a_2_.jpg?quality=80&bg-color=255,255,255&fit=bounds&height=755&width=589&canvas=589:755\n",
      "Title : SWEDEN - BLACK POLYESTER KAMEEZ SHALWAR\n",
      "Price : PKR8,990.00\n",
      "------------------------------------------------------------------------------------\n",
      "Getting Url : https://www.junaidjamshed.com/media/catalog/product/s/w/sweden_camo_green_cc-0008-b_2_.jpg?quality=80&bg-color=255,255,255&fit=bounds&height=755&width=589&canvas=589:755\n",
      "Title : SWEDEN - OLIVE POLYESTER KAMEEZ SHALWAR\n",
      "Price : PKR8,990.00\n",
      "------------------------------------------------------------------------------------\n",
      "Getting Url : https://www.junaidjamshed.com/media/catalog/product/s/w/sweden_militry_grey_cc-0008-c_1_-_copy.jpg?quality=80&bg-color=255,255,255&fit=bounds&height=755&width=589&canvas=589:755\n",
      "Title : SWEDEN - DEEP GREY POLYESTER KAMEEZ SHALWAR\n",
      "Price : PKR8,990.00\n",
      "------------------------------------------------------------------------------------\n",
      "Getting Url : https://www.junaidjamshed.com/media/catalog/product/d/u/dublin_deep_blue_jj-7452-d_1_.jpg?quality=80&bg-color=255,255,255&fit=bounds&height=755&width=589&canvas=589:755\n",
      "Title : DUBLIN - BLUE COTTON KAMEEZ SHALWAR\n",
      "Price : PKR8,990.00\n",
      "------------------------------------------------------------------------------------\n",
      "Getting Url : https://www.junaidjamshed.com/media/catalog/product/d/u/dublin_charcoal_jj-7452-c_5_.jpg?quality=80&bg-color=255,255,255&fit=bounds&height=755&width=589&canvas=589:755\n",
      "Title : DUBLIN - CHARCOAL COTTON KAMEEZ SHALWAR\n",
      "Price : PKR8,990.00\n",
      "------------------------------------------------------------------------------------\n",
      "Getting Url : https://www.junaidjamshed.com/media/catalog/product/e/g/egypt_pure_brown_jjks-8208-c_5_.jpg?quality=80&bg-color=255,255,255&fit=bounds&height=755&width=589&canvas=589:755\n",
      "Title : EGYPT - BROWN BLENDED KAMEEZ SHALWAR\n",
      "Price : PKR8,990.00\n",
      "------------------------------------------------------------------------------------\n",
      "Getting Url : https://www.junaidjamshed.com/media/catalog/product/e/g/egypt_magnet_grey_jjks-8208-f_5_.jpg?quality=80&bg-color=255,255,255&fit=bounds&height=755&width=589&canvas=589:755\n",
      "Title : EGYPT - CHARCOAL BLENDED KAMEEZ SHALWAR\n",
      "Price : PKR8,990.00\n",
      "------------------------------------------------------------------------------------\n",
      "Getting Url : https://www.junaidjamshed.com/media/catalog/product/e/g/egypt_black_jjks-8208-g_2_.jpg?quality=80&bg-color=255,255,255&fit=bounds&height=755&width=589&canvas=589:755\n",
      "Title : EGYPT - BLACK BLENDED KAMEEZ SHALWAR\n",
      "Price : PKR8,990.00\n",
      "------------------------------------------------------------------------------------\n",
      "Getting Url : https://www.junaidjamshed.com/media/catalog/product/d/u/dublin_coffee_brown_jj-7454-c_2_.jpg?quality=80&bg-color=255,255,255&fit=bounds&height=755&width=589&canvas=589:755\n",
      "Title : DUBLIN - BROWN COTTON KAMEEZ SHALWAR\n",
      "Price : PKR8,990.00\n",
      "------------------------------------------------------------------------------------\n"
     ]
    }
   ],
   "source": [
    "h = driver.find_elements(By.XPATH, \"//ol[@class='products list items product-items']//img[@class='product-image-photo lazy']\")\n",
    "i = driver.find_elements(By.XPATH, \"//ol[@class='products list items product-items']//h2[@class='product name product-item-name']\")\n",
    "J = driver.find_elements(By.XPATH, \"//ol[@class='products list items product-items']//span[@class='price']\")                       \n",
    "\n",
    "for n in range(len(h)):\n",
    "    url = h[n].get_attribute('src')\n",
    "    print(\"Getting Url : \" + url)\n",
    "    title = i[n].text\n",
    "    print(\"Title : \" + title)\n",
    "    price = J[n].text\n",
    "    print(\"Price : \" + price)\n",
    "    \n",
    "    \n",
    "    print(\"------------------------------------------------------------------------------------\")"
   ]
  },
  {
   "cell_type": "code",
   "execution_count": 57,
   "metadata": {},
   "outputs": [
    {
     "name": "stdout",
     "output_type": "stream",
     "text": [
      "[]\n"
     ]
    }
   ],
   "source": [
    "print(g)"
   ]
  },
  {
   "cell_type": "code",
   "execution_count": null,
   "metadata": {},
   "outputs": [],
   "source": []
  }
 ],
 "metadata": {
  "kernelspec": {
   "display_name": "Python 3",
   "language": "python",
   "name": "python3"
  },
  "language_info": {
   "codemirror_mode": {
    "name": "ipython",
    "version": 3
   },
   "file_extension": ".py",
   "mimetype": "text/x-python",
   "name": "python",
   "nbconvert_exporter": "python",
   "pygments_lexer": "ipython3",
   "version": "3.8.5"
  }
 },
 "nbformat": 4,
 "nbformat_minor": 4
}
