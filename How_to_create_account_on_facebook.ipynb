{
 "cells": [
  {
   "cell_type": "code",
   "execution_count": 2,
   "id": "62ecfa6b",
   "metadata": {},
   "outputs": [],
   "source": [
    "from selenium import webdriver\n",
    "from webdriver_manager.chrome import ChromeDriverManager\n",
    "from selenium.webdriver.common.by import By"
   ]
  },
  {
   "cell_type": "code",
   "execution_count": 3,
   "id": "117efda8",
   "metadata": {},
   "outputs": [
    {
     "name": "stderr",
     "output_type": "stream",
     "text": [
      "[WDM] - Downloading: 100%|████████████████████████████████████████████████████████| 6.68M/6.68M [00:04<00:00, 1.45MB/s]\n",
      "C:\\Users\\ABC\\AppData\\Local\\Temp\\ipykernel_22188\\2541333999.py:1: DeprecationWarning: executable_path has been deprecated, please pass in a Service object\n",
      "  driver = webdriver.Chrome(ChromeDriverManager().install())\n"
     ]
    }
   ],
   "source": [
    "driver = webdriver.Chrome(ChromeDriverManager().install())\n",
    "\n",
    "# Get \n",
    "driver.get(\"https://m.facebook.com/r.php?next=%2Fhome.php&soft=hjk\")"
   ]
  },
  {
   "cell_type": "code",
   "execution_count": 8,
   "id": "98790184",
   "metadata": {},
   "outputs": [],
   "source": [
    "firstname = driver.find_element(By.XPATH, \"//input[@name='firstname']\")"
   ]
  },
  {
   "cell_type": "code",
   "execution_count": 12,
   "id": "b75f965f",
   "metadata": {},
   "outputs": [],
   "source": [
    "firstname.send_keys(\"Ahmed\")"
   ]
  },
  {
   "cell_type": "code",
   "execution_count": 13,
   "id": "bad7c71c",
   "metadata": {},
   "outputs": [],
   "source": [
    "surname = driver.find_element(By.XPATH, \"//input[@name='lastname']\")"
   ]
  },
  {
   "cell_type": "code",
   "execution_count": 14,
   "id": "0fdf215c",
   "metadata": {},
   "outputs": [],
   "source": [
    "surname.send_keys(\"Mujtaba\")"
   ]
  },
  {
   "cell_type": "code",
   "execution_count": 15,
   "id": "63fadfeb",
   "metadata": {},
   "outputs": [],
   "source": [
    "Next = driver.find_element(By.XPATH, \"(//button[@value='Next'])[1]\")"
   ]
  },
  {
   "cell_type": "code",
   "execution_count": 16,
   "id": "7995a977",
   "metadata": {},
   "outputs": [],
   "source": [
    "Next.click()"
   ]
  },
  {
   "cell_type": "markdown",
   "id": "60a59297",
   "metadata": {},
   "source": [
    "# Next Page\n"
   ]
  },
  {
   "cell_type": "code",
   "execution_count": 17,
   "id": "3e34b5e2",
   "metadata": {},
   "outputs": [],
   "source": [
    "Dateofbirth = driver.find_element(By.XPATH, \"//select[@id='day']\")"
   ]
  },
  {
   "cell_type": "code",
   "execution_count": 18,
   "id": "19387d90",
   "metadata": {},
   "outputs": [],
   "source": [
    "Dateofbirth.send_keys(\"16\")"
   ]
  },
  {
   "cell_type": "code",
   "execution_count": 19,
   "id": "f10a4c16",
   "metadata": {},
   "outputs": [],
   "source": [
    "Month = driver.find_element(By.XPATH, \"//select[@id='month']\")"
   ]
  },
  {
   "cell_type": "code",
   "execution_count": 20,
   "id": "5b8b8081",
   "metadata": {},
   "outputs": [],
   "source": [
    "Month.send_keys(\"April\")"
   ]
  },
  {
   "cell_type": "code",
   "execution_count": 21,
   "id": "3559f8c1",
   "metadata": {},
   "outputs": [],
   "source": [
    "year = driver.find_element(By.XPATH, \"//select[@id='year']\")"
   ]
  },
  {
   "cell_type": "code",
   "execution_count": 22,
   "id": "59e688bb",
   "metadata": {},
   "outputs": [],
   "source": [
    "year.send_keys(\"1999\")"
   ]
  },
  {
   "cell_type": "code",
   "execution_count": 23,
   "id": "7716dee9",
   "metadata": {},
   "outputs": [],
   "source": [
    "Next = driver.find_element(By.XPATH, \"(//button[@value='Next'])[1]\")"
   ]
  },
  {
   "cell_type": "code",
   "execution_count": 24,
   "id": "a17df7ac",
   "metadata": {},
   "outputs": [],
   "source": [
    "Next.click()"
   ]
  },
  {
   "cell_type": "markdown",
   "id": "256877d8",
   "metadata": {},
   "source": [
    "# Next Page"
   ]
  },
  {
   "cell_type": "code",
   "execution_count": 26,
   "id": "6b5ac63d",
   "metadata": {},
   "outputs": [],
   "source": [
    "no = driver.find_element(By.XPATH, \"//input[@name='reg_email__']\")"
   ]
  },
  {
   "cell_type": "code",
   "execution_count": 27,
   "id": "7d63d1a1",
   "metadata": {},
   "outputs": [],
   "source": [
    "no.send_keys(\"03007098129\")"
   ]
  },
  {
   "cell_type": "code",
   "execution_count": 28,
   "id": "8f71c5d1",
   "metadata": {},
   "outputs": [],
   "source": [
    "Next = driver.find_element(By.XPATH, \"(//button[@value='Next'])[1]\")"
   ]
  },
  {
   "cell_type": "code",
   "execution_count": 29,
   "id": "28358dac",
   "metadata": {},
   "outputs": [],
   "source": [
    "Next.click()"
   ]
  },
  {
   "cell_type": "markdown",
   "id": "07a16b08",
   "metadata": {},
   "source": [
    "# NExt PAge"
   ]
  },
  {
   "cell_type": "code",
   "execution_count": 30,
   "id": "32faaf7b",
   "metadata": {},
   "outputs": [],
   "source": [
    "gender = driver.find_element(By.XPATH, \"//input[@id='Male']\")"
   ]
  },
  {
   "cell_type": "code",
   "execution_count": 31,
   "id": "73ce0507",
   "metadata": {},
   "outputs": [],
   "source": [
    "gender.send_keys(\"Male\")"
   ]
  },
  {
   "cell_type": "code",
   "execution_count": 32,
   "id": "0aeed047",
   "metadata": {},
   "outputs": [],
   "source": [
    "Next = driver.find_element(By.XPATH, \"(//button[@value='Next'])[1]\")"
   ]
  },
  {
   "cell_type": "code",
   "execution_count": 33,
   "id": "a966e73a",
   "metadata": {},
   "outputs": [],
   "source": [
    "Next.click()"
   ]
  },
  {
   "cell_type": "markdown",
   "id": "84280bf6",
   "metadata": {},
   "source": [
    "# Next Page"
   ]
  },
  {
   "cell_type": "code",
   "execution_count": 37,
   "id": "c31c8b19",
   "metadata": {},
   "outputs": [],
   "source": [
    "password = driver.find_element(By.XPATH, \"//input[@name='reg_passwd__']\")"
   ]
  },
  {
   "cell_type": "code",
   "execution_count": 38,
   "id": "b809f2b8",
   "metadata": {},
   "outputs": [],
   "source": [
    "password.send_keys(\"SeleniumPractice\")"
   ]
  },
  {
   "cell_type": "code",
   "execution_count": 41,
   "id": "7e7d5f76",
   "metadata": {},
   "outputs": [],
   "source": [
    "Signup = driver.find_element(By.XPATH, \"(//button[@value='Sign Up'])[1]\")"
   ]
  },
  {
   "cell_type": "code",
   "execution_count": 42,
   "id": "bf037812",
   "metadata": {},
   "outputs": [],
   "source": [
    "Signup.click()"
   ]
  },
  {
   "cell_type": "code",
   "execution_count": 43,
   "id": "7bd9ab55",
   "metadata": {},
   "outputs": [],
   "source": [
    "#Finally Your accont has been created"
   ]
  },
  {
   "cell_type": "code",
   "execution_count": null,
   "id": "cd8a901a",
   "metadata": {},
   "outputs": [],
   "source": []
  }
 ],
 "metadata": {
  "kernelspec": {
   "display_name": "Python 3 (ipykernel)",
   "language": "python",
   "name": "python3"
  },
  "language_info": {
   "codemirror_mode": {
    "name": "ipython",
    "version": 3
   },
   "file_extension": ".py",
   "mimetype": "text/x-python",
   "name": "python",
   "nbconvert_exporter": "python",
   "pygments_lexer": "ipython3",
   "version": "3.9.12"
  }
 },
 "nbformat": 4,
 "nbformat_minor": 5
}
